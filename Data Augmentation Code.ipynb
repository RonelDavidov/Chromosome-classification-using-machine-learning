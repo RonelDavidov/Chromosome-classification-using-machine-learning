{
 "cells": [
  {
   "cell_type": "code",
   "execution_count": 4,
   "metadata": {
    "collapsed": true,
    "ExecuteTime": {
     "end_time": "2024-07-15T16:57:35.638503900Z",
     "start_time": "2024-07-15T16:57:35.528501Z"
    }
   },
   "outputs": [
    {
     "name": "stdout",
     "output_type": "stream",
     "text": [
      "Images have been rotated and saved successfully.\n"
     ]
    }
   ],
   "source": [
    "from PIL import Image\n",
    "import os\n",
    "\n",
    "# Define the folder path containing the images\n",
    "folder_path = 'C:/Users/ronel/Desktop/spearted/good'\n",
    "\n",
    "# List of degrees to rotate\n",
    "rotations = [90,180,270]\n",
    "\n",
    "# Loop through all files in the folder\n",
    "for filename in os.listdir(folder_path):\n",
    "    # Check if the file is an image (you can add more image formats if needed)\n",
    "    if filename.endswith(('.png', '.jpg', '.jpeg', '.bmp', '.gif')):\n",
    "        # Open the image file\n",
    "        img_path = os.path.join(folder_path, filename)\n",
    "        img = Image.open(img_path)\n",
    "\n",
    "        # Loop through each rotation angle\n",
    "        for angle in rotations:\n",
    "            # Rotate the image\n",
    "            rotated_img = img.rotate(angle, expand=True)\n",
    "\n",
    "            # Create a new filename for the rotated image\n",
    "            new_filename = f\"{os.path.splitext(filename)[0]}_rotated_{angle}{os.path.splitext(filename)[1]}\"\n",
    "            new_img_path = os.path.join(folder_path, new_filename)\n",
    "\n",
    "            # Save the rotated image\n",
    "            rotated_img.save(new_img_path)\n",
    "\n",
    "        # Close the image file\n",
    "        img.close()\n",
    "\n",
    "print(\"Images have been rotated and saved successfully.\")"
   ]
  },
  {
   "cell_type": "code",
   "execution_count": 1,
   "outputs": [
    {
     "name": "stdout",
     "output_type": "stream",
     "text": [
      "Images have been rotated and saved successfully.\n"
     ]
    }
   ],
   "source": [
    "from PIL import Image\n",
    "import os\n",
    "\n",
    "# Define the folder path containing the images\n",
    "folder_path = 'C:/Users/ronel/Desktop/spearted/good'\n",
    "\n",
    "# Define the folder path for the rotated images\n",
    "rotated_folder_path = os.path.join(folder_path, 'rotated')\n",
    "if not os.path.exists(rotated_folder_path):\n",
    "    os.makedirs(rotated_folder_path)\n",
    "\n",
    "# List of degrees to rotate\n",
    "rotations = [90, 180, 270]\n",
    "\n",
    "# Loop through all files in the folder\n",
    "for filename in os.listdir(folder_path):\n",
    "    # Check if the file is an image (you can add more image formats if needed)\n",
    "    if filename.endswith(('.png', '.jpg', '.jpeg', '.bmp', '.gif')):\n",
    "        # Open the image file\n",
    "        img_path = os.path.join(folder_path, filename)\n",
    "        img = Image.open(img_path)\n",
    "\n",
    "        # Loop through each rotation angle\n",
    "        for angle in rotations:\n",
    "            # Rotate the image\n",
    "            rotated_img = img.rotate(angle, expand=True)\n",
    "\n",
    "            # Create a new filename for the rotated image\n",
    "            new_filename = f\"{os.path.splitext(filename)[0]}_rotated_{angle}{os.path.splitext(filename)[1]}\"\n",
    "            new_img_path = os.path.join(rotated_folder_path, new_filename)\n",
    "\n",
    "            # Save the rotated image\n",
    "            rotated_img.save(new_img_path)\n",
    "\n",
    "        # Close the image file\n",
    "        img.close()\n",
    "\n",
    "print(\"Images have been rotated and saved successfully.\")\n"
   ],
   "metadata": {
    "collapsed": false,
    "ExecuteTime": {
     "end_time": "2024-08-04T23:04:19.162271Z",
     "start_time": "2024-08-04T23:04:18.950392700Z"
    }
   }
  }
 ],
 "metadata": {
  "kernelspec": {
   "display_name": "Python 3",
   "language": "python",
   "name": "python3"
  },
  "language_info": {
   "codemirror_mode": {
    "name": "ipython",
    "version": 2
   },
   "file_extension": ".py",
   "mimetype": "text/x-python",
   "name": "python",
   "nbconvert_exporter": "python",
   "pygments_lexer": "ipython2",
   "version": "2.7.6"
  }
 },
 "nbformat": 4,
 "nbformat_minor": 0
}
