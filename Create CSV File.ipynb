{
 "cells": [
  {
   "cell_type": "code",
   "execution_count": null,
   "metadata": {
    "collapsed": true
   },
   "outputs": [],
   "source": [
    "import os\n",
    "import pandas as pd\n",
    "# Change the path according to the location of the file on your computer\n",
    "good_dir = 'C:/Users/ronel/Desktop/spearted/good'\n",
    "bad_dir = 'C:/Users/ronel/Desktop/spearted/bed'\n",
    "\n",
    "# List all good and bad images\n",
    "good_images = os.listdir(good_dir)\n",
    "bad_images = os.listdir(bad_dir)\n",
    "\n",
    "# Create a DataFrame with columns 'filepath' and 'label'\n",
    "data = []\n",
    "\n",
    "for img in good_images:\n",
    "    data.append([os.path.join(good_dir, img), 0])\n",
    "\n",
    "for img in bad_images:\n",
    "    data.append([os.path.join(bad_dir, img), 1])\n",
    "\n",
    "df = pd.DataFrame(data, columns=['filepath', 'label'])\n",
    "\n",
    "# Save the DataFrame to a CSV file\n",
    "df.to_csv('image_labels_original_data_set.csv', index=False)\n",
    "\n",
    "print(\"CSV file created successfully!\")"
   ]
  }
 ],
 "metadata": {
  "kernelspec": {
   "display_name": "Python 3",
   "language": "python",
   "name": "python3"
  },
  "language_info": {
   "codemirror_mode": {
    "name": "ipython",
    "version": 2
   },
   "file_extension": ".py",
   "mimetype": "text/x-python",
   "name": "python",
   "nbconvert_exporter": "python",
   "pygments_lexer": "ipython2",
   "version": "2.7.6"
  }
 },
 "nbformat": 4,
 "nbformat_minor": 0
}
